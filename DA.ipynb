{
 "cells": [
  {
   "cell_type": "code",
   "execution_count": 34,
   "metadata": {},
   "outputs": [],
   "source": [
    "#استيراد المكتبات اللازمة\n",
    "import pandas as pd"
   ]
  },
  {
   "cell_type": "code",
   "execution_count": 4,
   "metadata": {},
   "outputs": [],
   "source": [
    "# تحميل ملف البيانات في إطار بيانات\n",
    "df= pd.read_csv('sales_data_sample.csv', encoding='ISO-8859-1')"
   ]
  },
  {
   "cell_type": "code",
   "execution_count": null,
   "metadata": {},
   "outputs": [],
   "source": [
    "#إظهار الصفوف الأولى من إطار البيانات\n",
    "print(df.head())"
   ]
  },
  {
   "cell_type": "code",
   "execution_count": null,
   "metadata": {},
   "outputs": [],
   "source": [
    "#إظهار معلومات اطار البيانات\n",
    "print(df.info())"
   ]
  },
  {
   "cell_type": "code",
   "execution_count": 7,
   "metadata": {},
   "outputs": [],
   "source": [
    "#حذف الأعمدة غير الضرورية\n",
    "df.drop(['ORDERNUMBER', 'ORDERLINENUMBER', 'ORDERDATE', 'QTR_ID',\n",
    "         'MSRP', 'CUSTOMERNAME','PHONE', 'ADDRESSLINE1',\n",
    "         'ADDRESSLINE2', 'STATE', 'POSTALCODE', 'COUNTRY', 'TERRITORY',\n",
    "         'CONTACTLASTNAME', 'CONTACTFIRSTNAME', 'DEALSIZE'], axis=1, inplace=True)"
   ]
  },
  {
   "cell_type": "code",
   "execution_count": null,
   "metadata": {},
   "outputs": [],
   "source": [
    "#التأكد من قيم اطار البيانات\n",
    "\n",
    "print(df.info())"
   ]
  },
  {
   "cell_type": "code",
   "execution_count": null,
   "metadata": {},
   "outputs": [],
   "source": [
    "#انشاء مصفوفة للأعمدة الرقمية\n",
    "#ايجاد المتوسط و معرفةاعلى قيمة واصغر قيمة لكل عمود\n",
    "#معرفة القيم المتطرفة\n",
    "numeric_column= df[['QUANTITYORDERED', 'PRICEEACH', 'SALES', 'MONTH_ID', 'YEAR_ID']]\n",
    "\n",
    "for col in numeric_column:\n",
    "   desc= df[col].describe()\n",
    "   print(desc)"
   ]
  },
  {
   "cell_type": "code",
   "execution_count": null,
   "metadata": {},
   "outputs": [],
   "source": [
    "#حساب المقاييس لكل منتج فقط للمنتجات المباعة\n",
    "#1-إجمالي الإيرادات الناتجة\n",
    "#2- إجمالي الوحدات المباعة\n",
    "#3- متوسط سعر الوحدة\n",
    "#4- إجمالي عدد الطلبات\n",
    "# Filter out cancelled or on-hold or any unvalid status orders\n",
    "valid_statuses = ['In Process', 'Shipped']\n",
    "df_filtered = df[df['STATUS'].isin(valid_statuses)]\n",
    "\n",
    "# Group by 'PRODUCTCODE' and calculate the required metrics\n",
    "product_metrics = df_filtered.groupby('PRODUCTCODE').agg(\n",
    "    total_revenue=('SALES', 'sum'),\n",
    "    total_units_sold=('QUANTITYORDERED', 'sum'),\n",
    "    average_price_per_unit=('PRICEEACH', 'mean'),\n",
    "    total_orders=('PRODUCTCODE', 'count')\n",
    ").reset_index()\n",
    "\n",
    "# Display the result\n",
    "product_metrics.to_html(\"product_metrics_table.html\")\n",
    "\n",
    "print(product_metrics)"
   ]
  },
  {
   "cell_type": "code",
   "execution_count": null,
   "metadata": {},
   "outputs": [],
   "source": [
    "# Rank products based on each metric\n",
    "product_metrics['rank_revenue'] = product_metrics['total_revenue'].rank(ascending=False)\n",
    "product_metrics['rank_units_sold'] = product_metrics['total_units_sold'].rank(ascending=False)\n",
    "product_metrics['rank_price'] = product_metrics['average_price_per_unit'].rank(ascending=False)\n",
    "product_metrics['rank_orders'] = product_metrics['total_orders'].rank(ascending=False)\n",
    "\n",
    "# Create a composite rank by summing up all individual ranks\n",
    "product_metrics['composite_rank'] = product_metrics[['rank_revenue', 'rank_units_sold', 'rank_price', 'rank_orders']].sum(axis=1)\n",
    "\n",
    "# Sort by composite rank (lower is better)\n",
    "product_metrics_sorted = product_metrics.sort_values(by='composite_rank')\n",
    "\n",
    "\n",
    "\n",
    "\n",
    "# Display the ranked products\n",
    "print(product_metrics_sorted[['PRODUCTCODE', 'total_revenue', 'total_units_sold', 'average_price_per_unit', 'total_orders', 'composite_rank']])\n"
   ]
  },
  {
   "cell_type": "code",
   "execution_count": null,
   "metadata": {},
   "outputs": [],
   "source": [
    "#Visualization: Bar plot of top revenue products\n",
    "import matplotlib.pyplot as plt\n",
    "import seaborn as sns\n",
    "\n",
    "# Top 10 products by revenue\n",
    "top_revenue_products = product_metrics_sorted.head(10)\n",
    "\n",
    "# Plot\n",
    "plt.figure(figsize=(10, 6))\n",
    "sns.barplot(x='total_revenue', y='PRODUCTCODE', data=top_revenue_products, palette='Blues_d')\n",
    "plt.title('Top 10 Products by Revenue')\n",
    "plt.xlabel('Total Revenue')\n",
    "plt.ylabel('Product Code')\n",
    "plt.savefig(\"top_revenue_products.png\")\n",
    "\n",
    "plt.show()\n",
    "\n"
   ]
  },
  {
   "cell_type": "code",
   "execution_count": null,
   "metadata": {},
   "outputs": [],
   "source": [
    "#Visualization: Scatter plot of units sold vs. average price per unit\n",
    "plt.figure(figsize=(10, 6))\n",
    "sns.scatterplot(x='average_price_per_unit', y='total_units_sold', size='total_revenue', hue='PRODUCTCODE', data=product_metrics_sorted, sizes=(50, 500))\n",
    "plt.title('Products: Units Sold vs. Average Price')\n",
    "plt.xlabel('Average Price per Unit')\n",
    "plt.ylabel('Total Units Sold')\n",
    "plt.savefig(\"Units Sold vs. Average Price.png\")\n",
    "\n",
    "plt.show()\n"
   ]
  },
  {
   "cell_type": "code",
   "execution_count": null,
   "metadata": {},
   "outputs": [],
   "source": [
    "#Visualization: Top products by average price\n",
    "# Top 10 products by average price\n",
    "top_price_products = product_metrics_sorted.sort_values(by='average_price_per_unit', ascending=False).head(10)\n",
    "\n",
    "# Plot\n",
    "plt.figure(figsize=(10, 6))\n",
    "sns.barplot(x='average_price_per_unit', y='PRODUCTCODE', data=top_price_products, palette='Greens_d')\n",
    "plt.title('Top 10 Products by Average Price per Unit')\n",
    "plt.xlabel('Average Price per Unit')\n",
    "plt.ylabel('Product Code')\n",
    "plt.savefig(\"Top products by average price.png\")\n",
    "\n",
    "plt.show()\n"
   ]
  },
  {
   "cell_type": "code",
   "execution_count": null,
   "metadata": {},
   "outputs": [],
   "source": [
    "#Visualization: Bottom 10 products by composite rank\n",
    "# Bottom 10 products by composite rank\n",
    "bottom_products = product_metrics_sorted.tail(10)\n",
    "\n",
    "# Plot\n",
    "plt.figure(figsize=(10, 6))\n",
    "sns.barplot(x='composite_rank', y='PRODUCTCODE', data=bottom_products, palette='Reds_d')\n",
    "plt.title('Bottom 10 Products by Composite Rank')\n",
    "plt.xlabel('Composite Rank (higher = worse performance)')\n",
    "plt.ylabel('Product Code')\n",
    "plt.savefig(\"Bottom 10 products by composite rank.png\")\n",
    "\n",
    "plt.show()\n"
   ]
  },
  {
   "cell_type": "code",
   "execution_count": null,
   "metadata": {},
   "outputs": [],
   "source": [
    "#Visualization: Top 10 products by composite rank\n",
    "# Top 10 products by composite rank\n",
    "top_composite_products = product_metrics_sorted.head(10)\n",
    "\n",
    "# Plot\n",
    "plt.figure(figsize=(10, 6))\n",
    "sns.barplot(x='composite_rank', y='PRODUCTCODE', data=top_composite_products, palette='Purples_d')\n",
    "plt.title('Top 10 Products by Composite Rank')\n",
    "plt.xlabel('Composite Rank (lower = better performance)')\n",
    "plt.ylabel('Product Code')\n",
    "plt.savefig(\"Top 10 products by composite rank.png\")\n",
    "\n",
    "plt.show()\n"
   ]
  },
  {
   "cell_type": "code",
   "execution_count": null,
   "metadata": {},
   "outputs": [],
   "source": [
    "#حساب المقاييس لكل شهر\n",
    "#1- إجمالي الإيرادات الناتجة\n",
    "#2- اجمالي الوحدات المباعة\n",
    "#3- متوسط سعر الوحدة\n",
    "# Group by 'YEAR_ID' and 'MONTH_ID' to get the metrics for each month after fillter by status\n",
    "monthly_metrics = df_filtered.groupby(['YEAR_ID', 'MONTH_ID']).agg(\n",
    "    total_revenue=('SALES', 'sum'),\n",
    "    total_units_sold=('QUANTITYORDERED', 'sum')\n",
    ").reset_index()\n",
    "\n",
    "# Calculate average price per unit for each month\n",
    "monthly_metrics['average_price_per_unit'] = monthly_metrics['total_revenue'] / monthly_metrics['total_units_sold']\n",
    "\n",
    "monthly_metrics.to_html(\"monthly_metrics_table.html\")\n",
    "\n",
    "# Display the monthly metrics\n",
    "print(monthly_metrics)\n"
   ]
  },
  {
   "cell_type": "code",
   "execution_count": null,
   "metadata": {},
   "outputs": [],
   "source": [
    "#Revenue Over Time:\n",
    "plt.figure(figsize=(10, 6))\n",
    "sns.lineplot(x='MONTH_ID', y='total_revenue', hue='YEAR_ID', data=monthly_metrics, marker='o')\n",
    "plt.title('Total Revenue per Month')\n",
    "plt.xlabel('Month')\n",
    "plt.ylabel('Total Revenue')\n",
    "plt.savefig(\"Revenue Over Time.png\")\n",
    "\n",
    "plt.show()\n"
   ]
  },
  {
   "cell_type": "code",
   "execution_count": null,
   "metadata": {},
   "outputs": [],
   "source": [
    "#units Sold Over Time:\n",
    "plt.figure(figsize=(10, 6))\n",
    "sns.lineplot(x='MONTH_ID', y='total_units_sold', hue='YEAR_ID', data=monthly_metrics, marker='o')\n",
    "plt.title('Total Units Sold per Month')\n",
    "plt.xlabel('Month')\n",
    "plt.ylabel('Total Units Sold')\n",
    "plt.savefig(\"units Sold Over Time.png\")\n",
    "\n",
    "plt.show()\n"
   ]
  },
  {
   "cell_type": "code",
   "execution_count": null,
   "metadata": {},
   "outputs": [],
   "source": [
    "#Average Price Over Time:\n",
    "plt.figure(figsize=(10, 6))\n",
    "sns.lineplot(x='MONTH_ID', y='average_price_per_unit', hue='YEAR_ID', data=monthly_metrics, marker='o')\n",
    "plt.title('Average Price per Unit per Month')\n",
    "plt.xlabel('Month')\n",
    "plt.ylabel('Average Price per Unit')\n",
    "plt.savefig(\"Average Price Over Time.png\")\n",
    "\n",
    "plt.show()\n"
   ]
  },
  {
   "cell_type": "code",
   "execution_count": null,
   "metadata": {},
   "outputs": [],
   "source": [
    "#identify the top 5 cities with the highest sales\n",
    "# Calculate total sales by city\n",
    "city_sales = df.groupby('CITY').agg(total_sales=('SALES', 'sum')).reset_index()\n",
    "\n",
    "# Sort by total sales to identify top 5 cities\n",
    "top_5_cities = city_sales.sort_values(by='total_sales', ascending=False).head(5)\n",
    "other_cities = city_sales[~city_sales['CITY'].isin(top_5_cities['CITY'])]\n",
    "\n",
    "# Display the top 5 cities with the highest sales\n",
    "print(top_5_cities)\n"
   ]
  },
  {
   "cell_type": "code",
   "execution_count": null,
   "metadata": {},
   "outputs": [],
   "source": [
    "#Visualization Top 5 Cities by Sales:\n",
    "import matplotlib.pyplot as plt\n",
    "import seaborn as sns\n",
    "\n",
    "# Plot the top 5 cities\n",
    "plt.figure(figsize=(10, 6))\n",
    "sns.barplot(x='total_sales', y='CITY', data=top_5_cities, palette='Blues_d')\n",
    "plt.title('Top 5 Cities by Sales')\n",
    "plt.xlabel('Total Sales')\n",
    "plt.ylabel('City')\n",
    "plt.savefig(\"Top 5 Cities by Sales.png\")\n",
    "\n",
    "plt.show()\n"
   ]
  }
 ],
 "metadata": {
  "kernelspec": {
   "display_name": "Python 3",
   "language": "python",
   "name": "python3"
  },
  "language_info": {
   "codemirror_mode": {
    "name": "ipython",
    "version": 3
   },
   "file_extension": ".py",
   "mimetype": "text/x-python",
   "name": "python",
   "nbconvert_exporter": "python",
   "pygments_lexer": "ipython3",
   "version": "3.11.8"
  }
 },
 "nbformat": 4,
 "nbformat_minor": 2
}
